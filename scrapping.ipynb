{
  "nbformat": 4,
  "nbformat_minor": 0,
  "metadata": {
    "colab": {
      "provenance": []
    },
    "kernelspec": {
      "name": "python3",
      "display_name": "Python 3"
    },
    "language_info": {
      "name": "python"
    }
  },
  "cells": [
    {
      "cell_type": "code",
      "execution_count": 1,
      "metadata": {
        "id": "eBkdNIdxh93D"
      },
      "outputs": [],
      "source": [
        "import os\n",
        "import requests\n",
        "from google.colab import userdata\n",
        "import shutil\n",
        "from google.colab import files"
      ]
    },
    {
      "cell_type": "code",
      "source": [
        "# Access Key from Colab Secret\n",
        "ACCESS_KEY = userdata.get('UNSPLASH_ACCESS_KEY')\n",
        "\n",
        "def download_unsplash_images(query, num_images=5, save_dir=\"images\"):\n",
        "    os.makedirs(save_dir, exist_ok=True)\n",
        "\n",
        "    url = \"https://api.unsplash.com/search/photos\"\n",
        "    headers = {\n",
        "        \"Accept-Version\": \"v1\",\n",
        "        \"Authorization\": f\"Client-ID {ACCESS_KEY}\"\n",
        "    }\n",
        "\n",
        "    params = {\n",
        "        \"query\": query,\n",
        "        \"per_page\": num_images,\n",
        "        \"orientation\": \"landscape\"\n",
        "    }\n",
        "\n",
        "    response = requests.get(url, headers=headers, params=params)\n",
        "\n",
        "    if response.status_code != 200:\n",
        "        raise Exception(f\"Request Failed. Status: {response.status_code}\\nResponse: {response.text}\")\n",
        "\n",
        "    data = response.json()\n",
        "\n",
        "    print(f\"Downloading {len(data['results'])} image(s) for query: '{query}'\")\n",
        "\n",
        "    downloaded_ids = set()\n",
        "    valid_count = 0\n",
        "\n",
        "    for i, result in enumerate(data[\"results\"]):\n",
        "        image_id = result[\"id\"]\n",
        "\n",
        "        if image_id in downloaded_ids:\n",
        "            print(f\"⚠️  Duplicate skipped: {image_id}\")\n",
        "            continue\n",
        "        downloaded_ids.add(image_id)\n",
        "\n",
        "        image_url = result[\"urls\"][\"regular\"]\n",
        "        image_author = result[\"user\"][\"name\"]\n",
        "        image_path = os.path.join(save_dir, f\"{query}_{image_id}.jpg\")\n",
        "\n",
        "        img_data = requests.get(image_url).content\n",
        "        with open(image_path, \"wb\") as f:\n",
        "            f.write(img_data)\n",
        "\n",
        "        valid_count += 1\n",
        "        print(f\"✓ ({valid_count}) {image_path} | Credit: {image_author}\")\n",
        "\n",
        "    print(f\"\\n✅ {valid_count} unique image(s) downloaded successfully.\")\n",
        "\n",
        "download_unsplash_images(query=\"bicycle\", num_images=25)"
      ],
      "metadata": {
        "colab": {
          "base_uri": "https://localhost:8080/"
        },
        "id": "aornw81biBXK",
        "outputId": "5b733a8c-d5f2-4fb4-c31c-65ac2d8e4bc6"
      },
      "execution_count": 2,
      "outputs": [
        {
          "output_type": "stream",
          "name": "stdout",
          "text": [
            "Downloading 25 image(s) for query: 'bicycle'\n",
            "✓ (1) images/bicycle_tG36rvCeqng.jpg | Credit: Robert Bye\n",
            "✓ (2) images/bicycle_yjAFnkLtKY0.jpg | Credit: Mikkel Bech\n",
            "✓ (3) images/bicycle_igKjieyjcko.jpg | Credit: Carl Nenzen Loven\n",
            "✓ (4) images/bicycle_0ClfreiNppM.jpg | Credit: Tiffany Nutt\n",
            "✓ (5) images/bicycle_Lpqg7ypu2B4.jpg | Credit: Chris Barbalis\n",
            "✓ (6) images/bicycle_AoSAOV2Vtro.jpg | Credit: Alejandro Lopez\n",
            "✓ (7) images/bicycle_IlR3M0BMrWQ.jpg | Credit: Alesia Kazantceva\n",
            "✓ (8) images/bicycle_1ow9zrlldJU.jpg | Credit: Patrick Hendry\n",
            "✓ (9) images/bicycle_sw9Vozf6j_4.jpg | Credit: Dmitrii Vaccinium\n",
            "✓ (10) images/bicycle_RRcYcdGY630.jpg | Credit: Daniel Salcius\n",
            "✓ (11) images/bicycle_nPOtzvGLYW0.jpg | Credit: Jonny Kennaugh\n",
            "✓ (12) images/bicycle_OxzhYtL-00Y.jpg | Credit: Alexander Shustov\n",
            "✓ (13) images/bicycle_giFeTshEYYQ.jpg | Credit: Jacek Dylag\n",
            "✓ (14) images/bicycle_XVTWFHcNIko.jpg | Credit: Josh Nuttall\n",
            "✓ (15) images/bicycle_JXIc86xKJRM.jpg | Credit: Andrik Langfield\n",
            "✓ (16) images/bicycle_WeBASN7ESOY.jpg | Credit: Marc Kleen\n",
            "✓ (17) images/bicycle_OFyh9TpMyM8.jpg | Credit: Coen van de Broek\n",
            "✓ (18) images/bicycle_JK6lD_y3aDg.jpg | Credit: Solé Bicycles\n",
            "✓ (19) images/bicycle_jpgJSBQtw5U.jpg | Credit: Mac Blades\n",
            "✓ (20) images/bicycle_zeutQl8ooeU.jpg | Credit: Zoltan Tasi\n",
            "✓ (21) images/bicycle_4yfdgmbgBWU.jpg | Credit: Didier Weemaels\n",
            "✓ (22) images/bicycle_zkVi57UYHIQ.jpg | Credit: Josh Nuttall\n",
            "✓ (23) images/bicycle_cAY9X4rPG3g.jpg | Credit: Alessandra Caretto\n",
            "✓ (24) images/bicycle_pIwu5XNvXpk.jpg | Credit: Josh Nuttall\n",
            "✓ (25) images/bicycle_zbFU4MM9WGQ.jpg | Credit: Solé Bicycles\n",
            "\n",
            "✅ 25 unique image(s) downloaded successfully.\n"
          ]
        }
      ]
    },
    {
      "cell_type": "code",
      "source": [
        "folder_to_zip = 'images'\n",
        "output_zip = 'images.zip'\n",
        "\n",
        "shutil.make_archive('images', 'zip', folder_to_zip)\n",
        "print(\"Folder successfully compressed to ZIP.\")\n",
        "\n",
        "# Download file ZIP\n",
        "files.download(output_zip)"
      ],
      "metadata": {
        "colab": {
          "base_uri": "https://localhost:8080/",
          "height": 35
        },
        "id": "jsRxsE1Rpmq8",
        "outputId": "1d3c25f2-71c9-496d-d1b6-b01bbb5e106c"
      },
      "execution_count": 3,
      "outputs": [
        {
          "output_type": "stream",
          "name": "stdout",
          "text": [
            "Folder successfully compressed to ZIP.\n"
          ]
        },
        {
          "output_type": "display_data",
          "data": {
            "text/plain": [
              "<IPython.core.display.Javascript object>"
            ],
            "application/javascript": [
              "\n",
              "    async function download(id, filename, size) {\n",
              "      if (!google.colab.kernel.accessAllowed) {\n",
              "        return;\n",
              "      }\n",
              "      const div = document.createElement('div');\n",
              "      const label = document.createElement('label');\n",
              "      label.textContent = `Downloading \"${filename}\": `;\n",
              "      div.appendChild(label);\n",
              "      const progress = document.createElement('progress');\n",
              "      progress.max = size;\n",
              "      div.appendChild(progress);\n",
              "      document.body.appendChild(div);\n",
              "\n",
              "      const buffers = [];\n",
              "      let downloaded = 0;\n",
              "\n",
              "      const channel = await google.colab.kernel.comms.open(id);\n",
              "      // Send a message to notify the kernel that we're ready.\n",
              "      channel.send({})\n",
              "\n",
              "      for await (const message of channel.messages) {\n",
              "        // Send a message to notify the kernel that we're ready.\n",
              "        channel.send({})\n",
              "        if (message.buffers) {\n",
              "          for (const buffer of message.buffers) {\n",
              "            buffers.push(buffer);\n",
              "            downloaded += buffer.byteLength;\n",
              "            progress.value = downloaded;\n",
              "          }\n",
              "        }\n",
              "      }\n",
              "      const blob = new Blob(buffers, {type: 'application/binary'});\n",
              "      const a = document.createElement('a');\n",
              "      a.href = window.URL.createObjectURL(blob);\n",
              "      a.download = filename;\n",
              "      div.appendChild(a);\n",
              "      a.click();\n",
              "      div.remove();\n",
              "    }\n",
              "  "
            ]
          },
          "metadata": {}
        },
        {
          "output_type": "display_data",
          "data": {
            "text/plain": [
              "<IPython.core.display.Javascript object>"
            ],
            "application/javascript": [
              "download(\"download_ada4243b-bf3f-4d0c-93b9-ee51ef9f4659\", \"images.zip\", 3313161)"
            ]
          },
          "metadata": {}
        }
      ]
    }
  ]
}